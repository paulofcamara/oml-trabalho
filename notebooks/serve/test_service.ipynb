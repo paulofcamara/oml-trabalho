{
 "cells": [
  {
   "cell_type": "markdown",
   "id": "6f7bf482",
   "metadata": {},
   "source": [
    "# Teste do Serviço de Predição\n",
    "\n",
    "Este notebook demonstra como fazer requisições para o serviço de predição."
   ]
  },
  {
   "cell_type": "code",
   "execution_count": null,
   "id": "b823aab6",
   "metadata": {},
   "outputs": [],
   "source": [
    "import requests\n",
    "import json\n",
    "import pandas as pd\n",
    "\n",
    "# Carregar dados de exemplo\n",
    "df = pd.read_csv('../../data/lending_data.csv')\n",
    "print(\"Colunas disponíveis:\", df.columns.tolist())"
   ]
  },
  {
   "cell_type": "code",
   "execution_count": null,
   "id": "9a8ba8c1",
   "metadata": {},
   "outputs": [],
   "source": [
    "# Preparar uma requisição de exemplo\n",
    "sample_row = df.iloc[0].to_dict()\n",
    "payload = {\n",
    "    \"features\": sample_row\n",
    "}\n",
    "\n",
    "# Fazer a requisição para o serviço\n",
    "response = requests.post(\n",
    "    \"http://localhost:8000/predict\",\n",
    "    json=payload\n",
    ")\n",
    "\n",
    "# Verificar a resposta\n",
    "print(\"Status Code:\", response.status_code)\n",
    "print(\"Response:\")\n",
    "print(json.dumps(response.json(), indent=2))"
   ]
  }
 ],
 "metadata": {
  "language_info": {
   "name": "python"
  }
 },
 "nbformat": 4,
 "nbformat_minor": 5
}
