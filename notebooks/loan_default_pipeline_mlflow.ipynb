{
 "cells": [
  {
   "cell_type": "markdown",
   "id": "03835fbf",
   "metadata": {},
   "source": [
    "# Loan Default Prediction Pipeline with MLflow\n",
    "\n",
    "Este notebook constrói um pipeline de Machine Learning para prever incumprimento de crédito (default) com base no dataset **lending_data.csv** e regista automaticamente todos os artefactos, métricas e parâmetros no **MLflow**."
   ]
  },
  {
   "cell_type": "markdown",
   "id": "c026f8d1",
   "metadata": {},
   "source": [
    "## 1. Configuração do ambiente\n",
    "Certifique‑se de que tem `mlflow`, `pandas` e `scikit‑learn` instalados no ambiente ativo. Se estiver a usar a *conda.yaml* deste projeto, todas as dependências já estão incluídas."
   ]
  },
  {
   "cell_type": "code",
   "execution_count": 4,
   "id": "cb9356e0",
   "metadata": {},
   "outputs": [],
   "source": [
    "\n",
    "import mlflow\n",
    "import mlflow.sklearn\n",
    "import pandas as pd\n",
    "\n",
    "from sklearn.model_selection import train_test_split, GridSearchCV\n",
    "from sklearn.preprocessing import StandardScaler\n",
    "from sklearn.linear_model import LogisticRegression\n",
    "from sklearn.pipeline import Pipeline\n",
    "from sklearn.metrics import accuracy_score, roc_auc_score, classification_report\n",
    "\n",
    "mlflow.set_experiment(\"loan_default_experiment\")\n",
    "#mlflow.autolog()  # ativa o auto‑logging (regista métricas, parâmetros e modelo automaticamente)\n"
   ]
  },
  {
   "cell_type": "markdown",
   "id": "43ea7b7d",
   "metadata": {},
   "source": [
    "## 2. Carregar o dataset"
   ]
  },
  {
   "cell_type": "code",
   "execution_count": 5,
   "id": "a19fd12a",
   "metadata": {},
   "outputs": [
    {
     "name": "stdout",
     "output_type": "stream",
     "text": [
      "Tamanho train: (24000, 23), test: (6000, 23)\n"
     ]
    }
   ],
   "source": [
    "\n",
    "# Ajuste o caminho se necessário\n",
    "DATA_PATH = \"../data/lending_data.csv\"\n",
    "df = pd.read_csv(DATA_PATH)\n",
    "\n",
    "TARGET = \"default.payment.next.month\"\n",
    "ID_COL = \"ID\"\n",
    "\n",
    "X = df.drop(columns=[TARGET, ID_COL])\n",
    "y = df[TARGET]\n",
    "\n",
    "X_train, X_test, y_train, y_test = train_test_split(\n",
    "    X, y, test_size=0.2, random_state=42, stratify=y\n",
    ")\n",
    "\n",
    "print(f\"Tamanho train: {X_train.shape}, test: {X_test.shape}\")\n"
   ]
  },
  {
   "cell_type": "markdown",
   "id": "e6bda6c0",
   "metadata": {},
   "source": [
    "## 3. Definir Pipeline e Espaço de Hiperparâmetros\n",
    "Aqui vamos usar um *Pipeline* composto por `StandardScaler` e `LogisticRegression`, avaliado com `GridSearchCV`."
   ]
  },
  {
   "cell_type": "code",
   "execution_count": 6,
   "id": "db921d4e",
   "metadata": {},
   "outputs": [],
   "source": [
    "\n",
    "pipeline = Pipeline(\n",
    "    steps=[\n",
    "        (\"scaler\", StandardScaler()),\n",
    "        (\"classifier\", LogisticRegression(max_iter=1000, solver=\"liblinear\")),\n",
    "    ]\n",
    ")\n",
    "\n",
    "param_grid = {\n",
    "    \"classifier__C\": [0.01, 0.1, 1.0, 10.0],\n",
    "    \"classifier__penalty\": [\"l1\", \"l2\"],\n",
    "}\n",
    "\n",
    "grid_search = GridSearchCV(\n",
    "    estimator=pipeline,\n",
    "    param_grid=param_grid,\n",
    "    cv=5,\n",
    "    scoring=\"roc_auc\",\n",
    "    n_jobs=-1,\n",
    "    verbose=2,\n",
    ")\n"
   ]
  },
  {
   "cell_type": "markdown",
   "id": "1ef348b0",
   "metadata": {},
   "source": [
    "## 4. Treino, Avaliação e Logging no MLflow"
   ]
  },
  {
   "cell_type": "code",
   "execution_count": 7,
   "id": "f339275a",
   "metadata": {},
   "outputs": [
    {
     "name": "stdout",
     "output_type": "stream",
     "text": [
      "Fitting 5 folds for each of 8 candidates, totalling 40 fits\n"
     ]
    },
    {
     "name": "stderr",
     "output_type": "stream",
     "text": [
      "/home/pfcamara/miniconda3/envs/oml-trabalho/lib/python3.12/site-packages/joblib/externals/loky/backend/fork_exec.py:38: DeprecationWarning: This process (pid=11839) is multi-threaded, use of fork() may lead to deadlocks in the child.\n",
      "  pid = os.fork()\n",
      "/home/pfcamara/miniconda3/envs/oml-trabalho/lib/python3.12/site-packages/joblib/externals/loky/backend/fork_exec.py:38: DeprecationWarning: This process (pid=11839) is multi-threaded, use of fork() may lead to deadlocks in the child.\n",
      "  pid = os.fork()\n"
     ]
    },
    {
     "name": "stdout",
     "output_type": "stream",
     "text": [
      "[CV] END .........classifier__C=0.01, classifier__penalty=l1; total time=   0.2s\n",
      "[CV] END .........classifier__C=0.01, classifier__penalty=l1; total time=   0.5s\n",
      "[CV] END .........classifier__C=0.01, classifier__penalty=l1; total time=   0.8s\n",
      "[CV] END .........classifier__C=0.01, classifier__penalty=l1; total time=   0.2s\n",
      "[CV] END .........classifier__C=0.01, classifier__penalty=l1; total time=   0.6s\n",
      "[CV] END .........classifier__C=0.01, classifier__penalty=l2; total time=   0.3s\n",
      "[CV] END .........classifier__C=0.01, classifier__penalty=l2; total time=   0.3s\n",
      "[CV] END .........classifier__C=0.01, classifier__penalty=l2; total time=   0.3s\n",
      "[CV] END .........classifier__C=0.01, classifier__penalty=l2; total time=   0.2s\n",
      "[CV] END .........classifier__C=0.01, classifier__penalty=l2; total time=   0.2s\n",
      "[CV] END ..........classifier__C=0.1, classifier__penalty=l1; total time=   0.2s[CV] END ..........classifier__C=0.1, classifier__penalty=l1; total time=   0.3s\n",
      "\n",
      "[CV] END ..........classifier__C=0.1, classifier__penalty=l1; total time=   0.4s\n",
      "[CV] END ..........classifier__C=0.1, classifier__penalty=l1; total time=   0.2s[CV] END ..........classifier__C=0.1, classifier__penalty=l2; total time=   0.1s\n",
      "\n",
      "[CV] END ..........classifier__C=0.1, classifier__penalty=l1; total time=   0.3s\n",
      "[CV] END ..........classifier__C=0.1, classifier__penalty=l2; total time=   0.1s\n",
      "[CV] END ..........classifier__C=0.1, classifier__penalty=l2; total time=   0.1s\n",
      "[CV] END ..........classifier__C=0.1, classifier__penalty=l2; total time=   0.3s\n",
      "[CV] END ..........classifier__C=1.0, classifier__penalty=l1; total time=   0.2s\n",
      "[CV] END ..........classifier__C=0.1, classifier__penalty=l2; total time=   0.5s\n",
      "[CV] END ..........classifier__C=1.0, classifier__penalty=l1; total time=   0.3s\n",
      "[CV] END ..........classifier__C=1.0, classifier__penalty=l1; total time=   0.3s\n",
      "[CV] END ..........classifier__C=1.0, classifier__penalty=l1; total time=   0.4s\n",
      "[CV] END ..........classifier__C=1.0, classifier__penalty=l2; total time=   0.2s\n",
      "[CV] END ..........classifier__C=1.0, classifier__penalty=l2; total time=   0.2s\n",
      "[CV] END ..........classifier__C=1.0, classifier__penalty=l1; total time=   0.7s\n",
      "[CV] END ..........classifier__C=1.0, classifier__penalty=l2; total time=   0.2s\n",
      "[CV] END ..........classifier__C=1.0, classifier__penalty=l2; total time=   0.2s\n",
      "[CV] END ..........classifier__C=1.0, classifier__penalty=l2; total time=   0.3s\n",
      "[CV] END .........classifier__C=10.0, classifier__penalty=l1; total time=   0.4s\n",
      "[CV] END .........classifier__C=10.0, classifier__penalty=l1; total time=   0.4s\n",
      "[CV] END .........classifier__C=10.0, classifier__penalty=l1; total time=   0.5s\n",
      "[CV] END .........classifier__C=10.0, classifier__penalty=l1; total time=   0.5s\n",
      "[CV] END .........classifier__C=10.0, classifier__penalty=l1; total time=   0.6s\n",
      "[CV] END .........classifier__C=10.0, classifier__penalty=l2; total time=   0.3s\n",
      "[CV] END .........classifier__C=10.0, classifier__penalty=l2; total time=   0.4s\n",
      "[CV] END .........classifier__C=10.0, classifier__penalty=l2; total time=   0.2s\n",
      "[CV] END .........classifier__C=10.0, classifier__penalty=l2; total time=   0.2s\n",
      "[CV] END .........classifier__C=10.0, classifier__penalty=l2; total time=   0.3s\n",
      "Run ID: d6a9772a7dbe486787a3d5d792670c54\n",
      "Melhores Hiperparâmetros: {'classifier__C': 10.0, 'classifier__penalty': 'l1'}\n",
      "Accuracy  (test): 0.8078\n",
      "ROC AUC   (test): 0.7076\n"
     ]
    },
    {
     "name": "stderr",
     "output_type": "stream",
     "text": [
      "/home/pfcamara/miniconda3/envs/oml-trabalho/lib/python3.12/site-packages/mlflow/models/__init__.py:37: DeprecationWarning: datetime.datetime.utcnow() is deprecated and scheduled for removal in a future version. Use timezone-aware objects to represent datetimes in UTC: datetime.datetime.now(datetime.UTC).\n",
      "  self.utc_time_created = str(utc_time_created or datetime.utcnow())\n"
     ]
    }
   ],
   "source": [
    "\n",
    "with mlflow.start_run(run_name=\"log_reg_pipeline\") as run:\n",
    "    # Treinar modelo\n",
    "    grid_search.fit(X_train, y_train)\n",
    "\n",
    "    # Melhor estimador\n",
    "    best_model = grid_search.best_estimator_\n",
    "    best_params = grid_search.best_params_\n",
    "\n",
    "    # Avaliar no conjunto de teste\n",
    "    y_pred = best_model.predict(X_test)\n",
    "    y_proba = best_model.predict_proba(X_test)[:, 1]\n",
    "\n",
    "    acc = accuracy_score(y_test, y_pred)\n",
    "    roc = roc_auc_score(y_test, y_proba)\n",
    "\n",
    "    # Registar métricas e parâmetros extra (autolog já registou vários)\n",
    "    mlflow.log_metric(\"test_accuracy\", acc)\n",
    "    mlflow.log_metric(\"test_roc_auc\", roc)\n",
    "    mlflow.log_params(best_params)\n",
    "\n",
    "    # Registar dataset como artefacto\n",
    "    mlflow.log_artifact(DATA_PATH, artifact_path=\"dataset\")\n",
    "\n",
    "    # Registar o modelo treinado\n",
    "    mlflow.sklearn.log_model(best_model, artifact_path=\"model\")\n",
    "\n",
    "    print(f\"Run ID: {run.info.run_id}\")\n",
    "    print(\"Melhores Hiperparâmetros:\", best_params)\n",
    "    print(f\"Accuracy  (test): {acc:.4f}\")\n",
    "    print(f\"ROC AUC   (test): {roc:.4f}\")\n"
   ]
  },
  {
   "cell_type": "markdown",
   "id": "5ac33b04",
   "metadata": {},
   "source": [
    "## 5. Explorar resultados no UI\n",
    "Execute no terminal:\n",
    "\n",
    "```bash\n",
    "mlflow ui\n",
    "```\n",
    "\n",
    "e abra o navegador em [http://localhost:5000](http://localhost:5000) para comparar as *runs* e artefactos."
   ]
  }
 ],
 "metadata": {
  "kernelspec": {
   "display_name": "oml-trabalho",
   "language": "python",
   "name": "python3"
  },
  "language_info": {
   "codemirror_mode": {
    "name": "ipython",
    "version": 3
   },
   "file_extension": ".py",
   "mimetype": "text/x-python",
   "name": "python",
   "nbconvert_exporter": "python",
   "pygments_lexer": "ipython3",
   "version": "3.12.9"
  }
 },
 "nbformat": 4,
 "nbformat_minor": 5
}
