{
 "cells": [
  {
   "cell_type": "markdown",
   "id": "90db8289",
   "metadata": {},
   "source": [
    "## Documentação e Reprodutibilidade das Runs\n",
    "\n",
    "Para garantir que as runs sejam documentadas, reproduzíveis e comparáveis, adicionamos os seguintes passos:\n",
    "1. Log dos datasets de treino e teste associados à run.\n",
    "2. Log dos parâmetros utilizados no modelo.\n",
    "3. Log das métricas de avaliação do modelo.\n",
    "4. Log do modelo treinado para reuso futuro.\n",
    "5. Uso de um nome único para cada run para facilitar a identificação."
   ]
  },
  {
   "cell_type": "code",
   "execution_count": null,
   "id": "bc20e78f",
   "metadata": {},
   "outputs": [],
   "source": [
    "#Terminar a Run\n",
    "mlflow.end_run()\n"
   ]
  }
 ],
 "metadata": {
  "kernelspec": {
   "display_name": "oml-trabalho",
   "language": "python",
   "name": "python3"
  },
  "language_info": {
   "codemirror_mode": {
    "name": "ipython",
    "version": 3
   },
   "file_extension": ".py",
   "mimetype": "text/x-python",
   "name": "python",
   "nbconvert_exporter": "python",
   "pygments_lexer": "ipython3",
   "version": "3.12.9"
  }
 },
 "nbformat": 4,
 "nbformat_minor": 5
}
